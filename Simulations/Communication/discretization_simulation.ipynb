{
 "cells": [
  {
   "cell_type": "markdown",
   "metadata": {},
   "source": [
    "# Simulate the data acquisition of SquareLab"
   ]
  },
  {
   "cell_type": "code",
   "execution_count": 2,
   "metadata": {},
   "outputs": [],
   "source": [
    "# Importing some packages\n",
    "import numpy as np\n",
    "import matplotlib.pyplot as mpl"
   ]
  },
  {
   "cell_type": "markdown",
   "metadata": {},
   "source": [
    "## A bunch of parameters"
   ]
  },
  {
   "cell_type": "code",
   "execution_count": 3,
   "metadata": {},
   "outputs": [
    {
     "name": "stdout",
     "output_type": "stream",
     "text": [
      "[1.e-07 2.e-07 5.e-07 1.e-06 2.e-06 5.e-06 1.e-05 2.e-05 5.e-05 1.e-04\n",
      " 2.e-04 5.e-04 1.e-03 2.e-03 5.e-03 1.e-02 2.e-02 5.e-02 1.e-01 2.e-01\n",
      " 5.e-01 1.e+00 2.e+00 5.e+00 1.e+01 2.e+01 5.e+01 1.e+02 2.e+02 5.e+02]\n"
     ]
    }
   ],
   "source": [
    "time_scale = 0.1 #value in seconds\n",
    "x_divisions = 10\n",
    "number_of_samples = 5000\n",
    "\n",
    "timescales = np.logspace(-7, 2, 10)\n",
    "timescales = [timescales*a for a in [1, 2, 5]]\n",
    "timescales = np.sort(np.reshape(timescales, 30))\n",
    "print(timescales)\n",
    "\n",
    "horizontal_scale = 0.5\n",
    "adc_bits = 12\n",
    "y_division = 10\n",
    "\n",
    "f_sampling_max = 7.2e6\n",
    "target_fps = 30\n",
    "\n",
    "fps = min(1/time_scale, target_fps)\n",
    "\n",
    "trigger_position = 0.1 #in div"
   ]
  },
  {
   "cell_type": "markdown",
   "metadata": {},
   "source": [
    "## Generate test data"
   ]
  },
  {
   "cell_type": "code",
   "execution_count": 42,
   "metadata": {},
   "outputs": [
    {
     "ename": "NameError",
     "evalue": "name 'generate_test' is not defined",
     "output_type": "error",
     "traceback": [
      "\u001b[0;31m---------------------------------------------------------------------------\u001b[0m",
      "\u001b[0;31mNameError\u001b[0m                                 Traceback (most recent call last)",
      "\u001b[0;32m<ipython-input-42-fa5d9dd8a6d8>\u001b[0m in \u001b[0;36m<module>\u001b[0;34m\u001b[0m\n\u001b[1;32m      4\u001b[0m \u001b[0mfunc_freq\u001b[0m \u001b[0;34m=\u001b[0m \u001b[0;36m10\u001b[0m\u001b[0;34m\u001b[0m\u001b[0;34m\u001b[0m\u001b[0m\n\u001b[1;32m      5\u001b[0m \u001b[0;34m\u001b[0m\u001b[0m\n\u001b[0;32m----> 6\u001b[0;31m \u001b[0mgenerate_test\u001b[0m\u001b[0;34m(\u001b[0m\u001b[0mnp\u001b[0m\u001b[0;34m.\u001b[0m\u001b[0msin\u001b[0m\u001b[0;34m)\u001b[0m\u001b[0;34m\u001b[0m\u001b[0;34m\u001b[0m\u001b[0m\n\u001b[0m",
      "\u001b[0;31mNameError\u001b[0m: name 'generate_test' is not defined"
     ]
    }
   ],
   "source": [
    "# Oversampling to get a smooth curve\n",
    "oversample = 100\n",
    "overtime = 3\n",
    "func_freq = 10\n",
    "\n",
    "generate_test(np.sin)"
   ]
  },
  {
   "cell_type": "markdown",
   "metadata": {},
   "source": [
    "## Getting measured data"
   ]
  },
  {
   "cell_type": "markdown",
   "metadata": {},
   "source": [
    "### Quantize the data, acquisition procedure"
   ]
  },
  {
   "cell_type": "code",
   "execution_count": 78,
   "metadata": {},
   "outputs": [
    {
     "name": "stdout",
     "output_type": "stream",
     "text": [
      "The maximum time base for real-time sampling is: 0.0001\n",
      "The actual sample frequency is 5000.0\n",
      "(2, 5000)\n"
     ]
    },
    {
     "data": {
      "image/png": "[encoded data removed]",
      "text/plain": [
       "<Figure size 432x288 with 1 Axes>"
      ]
     },
     "metadata": {
      "needs_background": "light"
     },
     "output_type": "display_data"
    }
   ],
   "source": [
    "# Deciding if going equivalent time\n",
    "# Should always get enough data to print in real time\n",
    "\n",
    "min_timebase_equivalent = number_of_samples/(f_sampling_max*x_divisions)\n",
    "min_timebase_equivalent = np.argmin(np.where(timescales-min_timebase_equivalent > 0, timescales-min_timebase_equivalent, +np.inf))\n",
    "min_timebase_equivalent = timescales[min_timebase_equivalent]\n",
    "print(\"The maximum time base for real-time sampling is: {}\".format(min_timebase_equivalent))\n",
    "\n",
    "f_sampling = min(f_sampling_max, number_of_samples/(x_divisions*time_scale))\n",
    "print(\"The actual sample frequency is {}\".format(f_sampling))\n",
    "\n",
    "# duration of the simulation in seconds\n",
    "sim_duration = 1\n",
    "\n",
    "sine_freq = 10\n",
    "\n",
    "data_acquired = generate_samples(np.sin, f_sampling, sim_duration)\n",
    "framed_data = data_acquired\n",
    "framed_data[1] = framed_data[1]*(horizontal_scale*y_division)/pow(2, adc_bits) #normalizing back\n",
    "framed_data = acquire_data(data_acquired, (0, 0.9))\n",
    "\n",
    "graph_data(framed_data[0], framed_data[1])"
   ]
  },
  {
   "cell_type": "code",
   "execution_count": 77,
   "metadata": {},
   "outputs": [],
   "source": [
    "def acquire_data(data, trigger_position): #data np.array 2x:, x_y\n",
    "    data_buffer = np.zeros((2, number_of_samples)) #max buffer size is the number of samples\n",
    "    #fill the buffer before triggering, just at startup othrewise might have trigger set to an x without any data before\n",
    "    data_buffer[:,:] = data[:,0:number_of_samples]\n",
    "    print(data_buffer.shape)\n",
    "    data = data[:,number_of_samples:]\n",
    "    trigger_position_x = max(min(time_scale*x_divisions, trigger_position[0]), 0) #limit the trigger position inside the timewindow\n",
    "    \n",
    "    buffer_pointer = 0\n",
    "    triggered = 0\n",
    "    triggerable = 1\n",
    "    frame_period = 1/fps\n",
    "    \n",
    "    for i in range(data.shape[1]):\n",
    "        if data[1][i] >= trigger_position[1] and not triggered and triggerable:\n",
    "            np.roll(data, int(number_of_samples*trigger_position_x/(time_scale*x_divisions)) - 1, axis = 0) #shift the buffer to match x trigger. Data grandted to be the old one\n",
    "            buffer_pointer = int(trigger_position_x/(time_scale*x_divisions)) #Stare attenti che ci sia il punto di trigger\n",
    "            triggered = 1            \n",
    "        \n",
    "        data_buffer[buffer_pointer] = data[i]\n",
    "        \n",
    "        if buffer_pointer < number_of_samples:\n",
    "            buffer_pointer += 1\n",
    "            triggerable = 0\n",
    "        else:\n",
    "            buffer_pointer = 0\n",
    "            break\n",
    "    return data_buffer\n",
    "    \n",
    "    #prepare frame to be dispatched and hold off until next frame\n",
    "        #n\n",
    "        "
   ]
  },
  {
   "cell_type": "markdown",
   "metadata": {},
   "source": [
    "### Simulate the transmission protocol between SquareLab and PC"
   ]
  },
  {
   "cell_type": "code",
   "execution_count": 43,
   "metadata": {},
   "outputs": [],
   "source": [
    "def generate_samples(numpy_function, f_sampling, sim_duration):\n",
    "    data = np.zeros((2, int(f_sampling*sim_duration)))\n",
    "\n",
    "    #always sampling at given frequency based on the timescale\n",
    "\n",
    "    for i in range(int(f_sampling*sim_duration)):\n",
    "        # generating sine data to be acquired\n",
    "        # i is a time instant\n",
    "        data[0,i] = i/f_sampling\n",
    "        data[1,i] = np.floor(numpy_function(2*np.pi*sine_freq*i/f_sampling)*pow(2, adc_bits)/(horizontal_scale*y_division))\n",
    "    return data"
   ]
  },
  {
   "cell_type": "code",
   "execution_count": 19,
   "metadata": {},
   "outputs": [],
   "source": [
    "def show_test(numpy_funct):\n",
    "    x_time = np.linspace(0, time_scale*x_divisions*overtime, number_of_samples*oversample)\n",
    "    func_freq = 1;\n",
    "    if numpy_funct == np.sin:\n",
    "        func_freq = 2*np.pi*func_freq\n",
    "    y_samples = numpy_funct(func_freq*x_time)\n",
    "\n",
    "    # Plotting the test data to check correctness\n",
    "    mpl.figure(\"Broader view\")\n",
    "    mpl.plot(x_time, y_samples)\n",
    "    mpl.figure(\"Real view\")\n",
    "    mpl.plot(x_time[0:int(number_of_samples*oversample/overtime)], y_samples[0:int(number_of_samples*oversample/overtime)])\n",
    "    mpl.xlabel(\"Time\")\n",
    "    mpl.ylabel(\"Volts\")\n",
    "    mpl.show()"
   ]
  },
  {
   "cell_type": "code",
   "execution_count": 40,
   "metadata": {},
   "outputs": [],
   "source": [
    "def graph_data(x_data, y_data): # matrix x,y as rows\n",
    "    mpl.figure()\n",
    "    mpl.axis([0, max(x_data), -y_division/2*horizontal_scale, y_division/2*horizontal_scale])\n",
    "    mpl.plot(x_data, y_data , marker = \".\", linestyle = '')\n",
    "    mpl.xlabel(\"Time\")\n",
    "    mpl.ylabel(\"Volts\")\n",
    "\n",
    "    mpl.show()"
   ]
  }
 ],
 "metadata": {
  "kernelspec": {
   "display_name": "Python 3",
   "language": "python",
   "name": "python3"
  },
  "language_info": {
   "codemirror_mode": {
    "name": "ipython",
    "version": 3
   },
   "file_extension": ".py",
   "mimetype": "text/x-python",
   "name": "python",
   "nbconvert_exporter": "python",
   "pygments_lexer": "ipython3",
   "version": "3.7.5"
  }
 },
 "nbformat": 4,
 "nbformat_minor": 4
}
